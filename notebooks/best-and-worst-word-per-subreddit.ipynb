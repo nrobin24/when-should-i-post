{
 "cells": [
  {
   "cell_type": "code",
   "execution_count": 51,
   "metadata": {
    "collapsed": false
   },
   "outputs": [],
   "source": [
    "import pandas as pd\n",
    "\n",
    "import boto3\n",
    "from boto3.dynamodb.conditions import Key, Attr\n",
    "\n",
    "dynamodb = boto3.resource('dynamodb')\n",
    "indexTable = dynamodb.Table('nr-wsip-posts_index')"
   ]
  },
  {
   "cell_type": "code",
   "execution_count": 135,
   "metadata": {
    "collapsed": true
   },
   "outputs": [],
   "source": [
    "response = indexTable.query(\n",
    "    KeyConditionExpression=Key('day').eq('2017-05-20')\n",
    ")\n",
    "items_5_20 = response['Items']\n",
    "\n",
    "response = indexTable.query(\n",
    "    KeyConditionExpression=Key('day').eq('2017-05-21')\n",
    ")\n",
    "items_5_21 = response['Items']\n",
    "\n",
    "items = items_5_20 + items_5_21"
   ]
  },
  {
   "cell_type": "code",
   "execution_count": 136,
   "metadata": {
    "collapsed": false
   },
   "outputs": [],
   "source": [
    "def parse_decimals(item):\n",
    "    dec_fields = ['created_utc', 'last_updated', 'score']\n",
    "    for f in dec_fields:\n",
    "        item[f] = int(item[f])\n",
    "    return item\n",
    "    \n",
    "items = [parse_decimals(i) for i in items]\n",
    "items = pd.DataFrame(items)\n",
    "\n",
    "date_fields = ['created_utc', 'last_updated']\n",
    "\n",
    "for d in date_fields:\n",
    "    items[d] = items[d].map(lambda x: pd.Timestamp(x, unit='s'))\n",
    "    \n",
    "items = items.assign(alive_time=(items['last_updated'] - items['created_utc']))\n",
    "\n",
    "dataTable = dynamodb.Table('nr-wsip-posts_data')\n",
    "\n",
    "def get_data_item(id):\n",
    "    try:\n",
    "        response = dataTable.get_item(\n",
    "            Key={\n",
    "                'id': id\n",
    "            }\n",
    "        )\n",
    "        data_item = response['Item']\n",
    "        return data_item\n",
    "    except:\n",
    "#         print(\"bad response for id {0}\".format(id))\n",
    "        return {}\n",
    "\n",
    "data = [get_data_item(id) for _, id in items['id'].iteritems()]\n",
    "data = pd.DataFrame(data).set_index('id')\n",
    "\n",
    "items = items.join(data, on='id')"
   ]
  },
  {
   "cell_type": "code",
   "execution_count": 103,
   "metadata": {
    "collapsed": false
   },
   "outputs": [],
   "source": [
    "sh_items = items[items['subreddit'] == 'Showerthoughts']\n",
    "min_alive_time = 8"
   ]
  },
  {
   "cell_type": "code",
   "execution_count": 151,
   "metadata": {
    "collapsed": false
   },
   "outputs": [
    {
     "data": {
      "text/plain": [
       "<matplotlib.axes._subplots.AxesSubplot at 0x1172669b0>"
      ]
     },
     "execution_count": 151,
     "metadata": {},
     "output_type": "execute_result"
    },
    {
     "data": {
      "image/png": "[encoded data removed]",
      "text/plain": [
       "<matplotlib.figure.Figure at 0x117260f60>"
      ]
     },
     "metadata": {},
     "output_type": "display_data"
    }
   ],
   "source": [
    "%matplotlib inline\n",
    "import matplotlib.pyplot as plt\n",
    "\n",
    "fig, ax = plt.subplots()\n",
    "scores = sh_items[sh_items['alive_time'] > pd.Timedelta(hours=min_alive_time)]['score']\n",
    "scores[scores < 51].hist(bins=50)\n"
   ]
  },
  {
   "cell_type": "code",
   "execution_count": 147,
   "metadata": {
    "collapsed": false
   },
   "outputs": [],
   "source": [
    "min_alive_time = 12\n",
    "\n",
    "counts = items[items['alive_time'] >= pd.Timedelta(hours=min_alive_time)].groupby(\"subreddit\").count()['score'].sort_values(ascending=False)\n",
    "med_scores = items.groupby(\"subreddit\").median()['score'].sort_index(ascending=False)"
   ]
  },
  {
   "cell_type": "code",
   "execution_count": 148,
   "metadata": {
    "collapsed": false
   },
   "outputs": [
    {
     "data": {
      "text/plain": [
       "subreddit\n",
       "AskReddit             2816\n",
       "The_Donald            2514\n",
       "Showerthoughts         700\n",
       "funny                  693\n",
       "aww                    638\n",
       "pics                   609\n",
       "Overwatch              544\n",
       "leagueoflegends        508\n",
       "me_irl                 493\n",
       "politics               419\n",
       "videos                 419\n",
       "DotA2                  373\n",
       "gaming                 331\n",
       "mildlyinteresting      321\n",
       "Jokes                  319\n",
       "pcmasterrace           309\n",
       "SquaredCircle          308\n",
       "worldnews              299\n",
       "soccer                 269\n",
       "nba                    265\n",
       "dankmemes              258\n",
       "GlobalOffensive        249\n",
       "DestinyTheGame         231\n",
       "relationships          205\n",
       "rupaulsdragrace        204\n",
       "PrequelMemes           198\n",
       "conspiracy             197\n",
       "hiphopheads            157\n",
       "movies                 155\n",
       "gifs                   148\n",
       "todayilearned          146\n",
       "anime                  141\n",
       "BlackPeopleTwitter     109\n",
       "news                   107\n",
       "OldSchoolCool          106\n",
       "MarchAgainstTrump       98\n",
       "WTF                     78\n",
       "CringeAnarchy           78\n",
       "europe                  72\n",
       "hockey                  71\n",
       "baseball                67\n",
       "MMA                     60\n",
       "AdviceAnimals           60\n",
       "neoliberal              52\n",
       "tifu                    48\n",
       "technology              46\n",
       "nfl                     42\n",
       "nottheonion             41\n",
       "SubredditDrama          34\n",
       "OutOfTheLoop            27\n",
       "Documentaries           12\n",
       "Name: score, dtype: int64"
      ]
     },
     "execution_count": 148,
     "metadata": {},
     "output_type": "execute_result"
    }
   ],
   "source": [
    "counts"
   ]
  },
  {
   "cell_type": "code",
   "execution_count": 150,
   "metadata": {
    "collapsed": false
   },
   "outputs": [],
   "source": [
    "from collections import Counter, defaultdict\n",
    "import re\n",
    "\n",
    "def get_diffs_for_sub(sub, min_alive_hours, non_good_max, good_min):\n",
    "    def classif_sub_posts(score):\n",
    "        if score >= good_min:\n",
    "            return True\n",
    "        elif score < non_good_max:\n",
    "            return False\n",
    "        else:\n",
    "            return \n",
    "    sub_posts = items[items['subreddit'] == sub]\n",
    "    sub_posts = sub_posts[sub_posts['alive_time'] >= pd.Timedelta(hours=min_alive_hours)]\n",
    "    sub_posts = sub_posts.assign(good=sub_posts['score'].apply(classif_sub_posts))\n",
    "    sub_posts = sub_posts.dropna(subset=['good'])\n",
    "    \n",
    "    def to_message(row):\n",
    "        is_good = row['good']\n",
    "        words = \"{0} {1}\".format(row['title'], row['selftext'])\n",
    "        return (words, is_good)\n",
    "    \n",
    "    messages = [to_message(post) for _, post in sub_posts.iterrows()]\n",
    "    \n",
    "    word_probs = messages_to_word_probabilities(messages)\n",
    "    \n",
    "    words_good = [(word, p_good) for word, p_good, p_bad in word_probs]\n",
    "    words_bad = [(word, p_bad) for word, p_good, p_bad in word_probs]\n",
    "    \n",
    "    def to_series(word_tups):\n",
    "        words, scores = zip(*word_tups)\n",
    "        return pd.Series(scores, index=words)\n",
    "    \n",
    "#     best = to_series(words_good).sort_values(ascending=False).head(100)\n",
    "#     worst = to_series(words_bad).sort_values(ascending=False).head(100)\n",
    "    \n",
    "#     best_index_unique = np.setdiff1d(best.index, worst.index)\n",
    "#     best = best[best_index_unique].sort_values(ascending=False).head(10)\n",
    "    \n",
    "#     worst_index_unique = np.setdiff1d(worst.index, best.index)\n",
    "#     worst = worst[worst_index_unique].sort_values(ascending=False).head(10)\n",
    "#     diffs = word_diffs(messages)\n",
    "\n",
    "    diffs = to_series(words_good).sort_values(ascending=False)\n",
    "    best = diffs.head(10)\n",
    "    worst = diffs.tail(10).sort_values()\n",
    "    return {\"best\": best, \"worst\": worst }\n",
    "\n",
    "\n",
    "def tokenize(message):\n",
    "    stops = ['or', 'who', 'would', 'had', 'any' 'at', 'got', 'l', 'my', 'me', 'does','get', 'were', 'what', 'at', 'too', 'as', 's', 'an', 'than', 'do', 'so', 'no', 'it', 'how', 'be', 'has',  'a','can', 'will', 'have', 'if', 'why', 'but','he', 'the', 'and', 'on', 'all', 'is', 'emptystring', 'are', 'said', 'in', 'of', 'just', 'that', 'i', 'with', 'was', 'r', 't', 'to', 'for', 'by', 'you', 'there', 'not', 'to', 'from', 'this', '0' , '1', '2', '3', '4', '5', '6', '7', '8', '9']\n",
    "    message = message.lower()                       # convert to lowercase\n",
    "    all_words = re.findall(\"[a-z0-9']+\", message)   # extract the words\n",
    "    filt_words = list(filter(lambda x: x not in stops, all_words))\n",
    "    \n",
    "    return set(filt_words)                          # remove duplicates\n",
    "\n",
    "\n",
    "def count_words(messages):\n",
    "    \"\"\"training set consists of pairs (message, is_spam)\"\"\"\n",
    "    counts = defaultdict(lambda: [0, 0])\n",
    "    for message, is_good in messages:\n",
    "        for word in tokenize(message):\n",
    "            counts[word][0 if is_good else 1] += 1\n",
    "    return counts\n",
    "\n",
    "def word_probabilities(counts, total_goodposts, total_non_goodposts, k=0.5):\n",
    "    \"\"\"turn the word_counts into a list of triplets\n",
    "    w, p(w | good) and p(w | ~good)\"\"\"\n",
    "    return [(w,\n",
    "             (good + k) / (total_goodposts + 2 * k),\n",
    "             (non_good + k) / (total_non_goodposts + 2 * k))\n",
    "             for w, (good, non_good) in counts.items()]\n",
    "\n",
    "def messages_to_word_probabilities(messages):\n",
    "    num_goodposts = len([is_good\n",
    "                     for message, is_good in messages\n",
    "                     if is_good])\n",
    "    num_non_goodposts = len(messages) - num_goodposts\n",
    "\n",
    "    # run training data through our \"pipeline\"\n",
    "    k = 0.5\n",
    "    word_counts = count_words(messages)\n",
    "    word_probs = word_probabilities(word_counts,\n",
    "                                         num_goodposts,\n",
    "                                         num_non_goodposts,\n",
    "                                         k)\n",
    "    \n",
    "    return word_probs\n",
    "#     words_and_diffs = [(word, (p_good - p_bad)) for word, p_good, p_bad in word_probs]\n",
    "    \n",
    "    # try just the p_good\n",
    "#     words_and_diffs = [(word, p_good) for word, p_good, p_bad in word_probs]\n",
    "\n",
    "#     if len(words_and_diffs) == 0:\n",
    "#         return pd.Series()\n",
    "#     words, diffs = zip(*words_and_diffs)\n",
    "#     diffs = pd.Series(diffs, index=words).sort_values(ascending=False)\n",
    "#     return diffs.sort_values(ascending=False)"
   ]
  },
  {
   "cell_type": "code",
   "execution_count": null,
   "metadata": {
    "collapsed": true
   },
   "outputs": [],
   "source": []
  }
 ],
 "metadata": {
  "kernelspec": {
   "display_name": "Python 3",
   "language": "python",
   "name": "python3"
  },
  "language_info": {
   "codemirror_mode": {
    "name": "ipython",
    "version": 3
   },
   "file_extension": ".py",
   "mimetype": "text/x-python",
   "name": "python",
   "nbconvert_exporter": "python",
   "pygments_lexer": "ipython3",
   "version": "3.6.0"
  }
 },
 "nbformat": 4,
 "nbformat_minor": 2
}
